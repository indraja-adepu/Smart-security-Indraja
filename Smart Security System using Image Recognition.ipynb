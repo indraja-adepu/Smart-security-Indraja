{
 "cells": [
  {
   "cell_type": "code",
   "execution_count": 1,
   "metadata": {},
   "outputs": [
    {
     "name": "stderr",
     "output_type": "stream",
     "text": [
      "Using TensorFlow backend.\n"
     ]
    }
   ],
   "source": [
    "import keras\n",
    "#3 layers of CNN\n",
    "from keras.layers import Conv2D \n",
    "from keras.layers import MaxPooling2D\n",
    "from keras.layers import Flatten\n",
    "\n",
    "#ann layers \n",
    "from keras.models import Sequential \n",
    "from keras.layers import Dense"
   ]
  },
  {
   "cell_type": "code",
   "execution_count": 2,
   "metadata": {},
   "outputs": [],
   "source": [
    "model=Sequential()"
   ]
  },
  {
   "cell_type": "code",
   "execution_count": 3,
   "metadata": {},
   "outputs": [
    {
     "name": "stdout",
     "output_type": "stream",
     "text": [
      "WARNING:tensorflow:From /anaconda3/lib/python3.7/site-packages/tensorflow/python/framework/op_def_library.py:263: colocate_with (from tensorflow.python.framework.ops) is deprecated and will be removed in a future version.\n",
      "Instructions for updating:\n",
      "Colocations handled automatically by placer.\n"
     ]
    },
    {
     "name": "stderr",
     "output_type": "stream",
     "text": [
      "/anaconda3/lib/python3.7/site-packages/ipykernel_launcher.py:1: UserWarning: Update your `Conv2D` call to the Keras 2 API: `Conv2D(32, (3, 3), input_shape=(64, 64, 3..., activation=\"relu\")`\n",
      "  \"\"\"Entry point for launching an IPython kernel.\n"
     ]
    }
   ],
   "source": [
    "model.add(Conv2D(32,3,3,input_shape=(64,64,3),activation='relu'))"
   ]
  },
  {
   "cell_type": "code",
   "execution_count": 4,
   "metadata": {},
   "outputs": [
    {
     "name": "stderr",
     "output_type": "stream",
     "text": [
      "/anaconda3/lib/python3.7/site-packages/ipykernel_launcher.py:2: UserWarning: Update your `Conv2D` call to the Keras 2 API: `Conv2D(32, (3, 3), activation=\"relu\")`\n",
      "  \n"
     ]
    }
   ],
   "source": [
    "model.add(MaxPooling2D(pool_size=(2,2)))\n",
    "model.add(Conv2D(32,3,3,activation='relu'))\n",
    "model.add(MaxPooling2D(pool_size=(2,2)))"
   ]
  },
  {
   "cell_type": "code",
   "execution_count": 5,
   "metadata": {},
   "outputs": [],
   "source": [
    "model.add(Flatten())"
   ]
  },
  {
   "cell_type": "code",
   "execution_count": 6,
   "metadata": {},
   "outputs": [
    {
     "name": "stderr",
     "output_type": "stream",
     "text": [
      "/anaconda3/lib/python3.7/site-packages/ipykernel_launcher.py:1: UserWarning: Update your `Dense` call to the Keras 2 API: `Dense(activation=\"relu\", units=120, kernel_initializer=\"random_uniform\")`\n",
      "  \"\"\"Entry point for launching an IPython kernel.\n"
     ]
    }
   ],
   "source": [
    "model.add(Dense(output_dim=120,activation='relu',init='random_uniform'))"
   ]
  },
  {
   "cell_type": "code",
   "execution_count": 7,
   "metadata": {},
   "outputs": [
    {
     "name": "stderr",
     "output_type": "stream",
     "text": [
      "/anaconda3/lib/python3.7/site-packages/ipykernel_launcher.py:1: UserWarning: Update your `Dense` call to the Keras 2 API: `Dense(activation=\"relu\", units=100, kernel_initializer=\"random_uniform\")`\n",
      "  \"\"\"Entry point for launching an IPython kernel.\n"
     ]
    }
   ],
   "source": [
    "model.add(Dense(output_dim=100,activation='relu',init='random_uniform'))"
   ]
  },
  {
   "cell_type": "code",
   "execution_count": 8,
   "metadata": {},
   "outputs": [
    {
     "name": "stderr",
     "output_type": "stream",
     "text": [
      "/anaconda3/lib/python3.7/site-packages/ipykernel_launcher.py:1: UserWarning: Update your `Dense` call to the Keras 2 API: `Dense(activation=\"relu\", units=90, kernel_initializer=\"random_uniform\")`\n",
      "  \"\"\"Entry point for launching an IPython kernel.\n"
     ]
    }
   ],
   "source": [
    "model.add(Dense(output_dim=90,activation='relu',init='random_uniform'))"
   ]
  },
  {
   "cell_type": "code",
   "execution_count": 9,
   "metadata": {},
   "outputs": [
    {
     "name": "stderr",
     "output_type": "stream",
     "text": [
      "/anaconda3/lib/python3.7/site-packages/ipykernel_launcher.py:1: UserWarning: Update your `Dense` call to the Keras 2 API: `Dense(activation=\"softmax\", units=4, kernel_initializer=\"random_uniform\")`\n",
      "  \"\"\"Entry point for launching an IPython kernel.\n"
     ]
    }
   ],
   "source": [
    "model.add(Dense(output_dim=4,activation='softmax',init='random_uniform'))"
   ]
  },
  {
   "cell_type": "code",
   "execution_count": 10,
   "metadata": {},
   "outputs": [],
   "source": [
    "model.compile(optimizer='adam',loss='categorical_crossentropy',metrics=['accuracy'])"
   ]
  },
  {
   "cell_type": "code",
   "execution_count": 11,
   "metadata": {},
   "outputs": [
    {
     "name": "stdout",
     "output_type": "stream",
     "text": [
      "_________________________________________________________________\n",
      "Layer (type)                 Output Shape              Param #   \n",
      "=================================================================\n",
      "conv2d_1 (Conv2D)            (None, 62, 62, 32)        896       \n",
      "_________________________________________________________________\n",
      "max_pooling2d_1 (MaxPooling2 (None, 31, 31, 32)        0         \n",
      "_________________________________________________________________\n",
      "conv2d_2 (Conv2D)            (None, 29, 29, 32)        9248      \n",
      "_________________________________________________________________\n",
      "max_pooling2d_2 (MaxPooling2 (None, 14, 14, 32)        0         \n",
      "_________________________________________________________________\n",
      "flatten_1 (Flatten)          (None, 6272)              0         \n",
      "_________________________________________________________________\n",
      "dense_1 (Dense)              (None, 120)               752760    \n",
      "_________________________________________________________________\n",
      "dense_2 (Dense)              (None, 100)               12100     \n",
      "_________________________________________________________________\n",
      "dense_3 (Dense)              (None, 90)                9090      \n",
      "_________________________________________________________________\n",
      "dense_4 (Dense)              (None, 4)                 364       \n",
      "=================================================================\n",
      "Total params: 784,458\n",
      "Trainable params: 784,458\n",
      "Non-trainable params: 0\n",
      "_________________________________________________________________\n"
     ]
    }
   ],
   "source": [
    "model.summary()"
   ]
  },
  {
   "cell_type": "code",
   "execution_count": 12,
   "metadata": {},
   "outputs": [],
   "source": [
    "from keras.preprocessing.image import ImageDataGenerator"
   ]
  },
  {
   "cell_type": "code",
   "execution_count": 13,
   "metadata": {},
   "outputs": [],
   "source": [
    "train_datagen=ImageDataGenerator(rescale=1./255,shear_range=0.2,zoom_range=0.2,horizontal_flip=True)\n",
    "test_datagen=ImageDataGenerator(rescale=1./255)"
   ]
  },
  {
   "cell_type": "code",
   "execution_count": 14,
   "metadata": {},
   "outputs": [
    {
     "name": "stdout",
     "output_type": "stream",
     "text": [
      "Found 1289 images belonging to 4 classes.\n",
      "Found 357 images belonging to 4 classes.\n"
     ]
    }
   ],
   "source": [
    "x_train=train_datagen.flow_from_directory(r\"/Applications/new_dataset/train\",target_size=(64,64),batch_size=32,class_mode='categorical')\n",
    "x_test=test_datagen.flow_from_directory(r\"/Applications/new_dataset/test\",target_size=(64,64),batch_size=32,class_mode='categorical')"
   ]
  },
  {
   "cell_type": "code",
   "execution_count": 15,
   "metadata": {},
   "outputs": [
    {
     "name": "stdout",
     "output_type": "stream",
     "text": [
      "{'anjali': 0, 'indraja': 1, 'niharika': 2, 'unknown': 3}\n"
     ]
    }
   ],
   "source": [
    "print(x_train.class_indices)"
   ]
  },
  {
   "cell_type": "code",
   "execution_count": 16,
   "metadata": {},
   "outputs": [
    {
     "name": "stdout",
     "output_type": "stream",
     "text": [
      "{'anjali': 0, 'indraja': 1, 'niharika': 2, 'unknown': 3}\n"
     ]
    }
   ],
   "source": [
    "print(x_test.class_indices)"
   ]
  },
  {
   "cell_type": "code",
   "execution_count": 17,
   "metadata": {},
   "outputs": [
    {
     "name": "stdout",
     "output_type": "stream",
     "text": [
      "WARNING:tensorflow:From /anaconda3/lib/python3.7/site-packages/tensorflow/python/ops/math_ops.py:3066: to_int32 (from tensorflow.python.ops.math_ops) is deprecated and will be removed in a future version.\n",
      "Instructions for updating:\n",
      "Use tf.cast instead.\n"
     ]
    },
    {
     "name": "stderr",
     "output_type": "stream",
     "text": [
      "/anaconda3/lib/python3.7/site-packages/ipykernel_launcher.py:1: UserWarning: The semantics of the Keras 2 argument `steps_per_epoch` is not the same as the Keras 1 argument `samples_per_epoch`. `steps_per_epoch` is the number of batches to draw from the generator at each epoch. Basically steps_per_epoch = samples_per_epoch/batch_size. Similarly `nb_val_samples`->`validation_steps` and `val_samples`->`steps` arguments have changed. Update your method calls accordingly.\n",
      "  \"\"\"Entry point for launching an IPython kernel.\n",
      "/anaconda3/lib/python3.7/site-packages/ipykernel_launcher.py:1: UserWarning: Update your `fit_generator` call to the Keras 2 API: `fit_generator(<keras_pre..., epochs=25, validation_data=<keras_pre..., steps_per_epoch=40, validation_steps=357)`\n",
      "  \"\"\"Entry point for launching an IPython kernel.\n"
     ]
    },
    {
     "name": "stdout",
     "output_type": "stream",
     "text": [
      "Epoch 1/25\n",
      "40/40 [==============================] - 31s 783ms/step - loss: 1.3088 - acc: 0.3773 - val_loss: 1.3180 - val_acc: 0.5630\n",
      "Epoch 2/25\n",
      "40/40 [==============================] - 30s 738ms/step - loss: 0.8080 - acc: 0.7636 - val_loss: 0.5997 - val_acc: 0.7531\n",
      "Epoch 3/25\n",
      "40/40 [==============================] - 30s 741ms/step - loss: 0.2742 - acc: 0.9152 - val_loss: 0.7284 - val_acc: 0.7146\n",
      "Epoch 4/25\n",
      "40/40 [==============================] - 29s 735ms/step - loss: 0.1763 - acc: 0.9441 - val_loss: 0.4637 - val_acc: 0.8376\n",
      "Epoch 5/25\n",
      "40/40 [==============================] - 30s 738ms/step - loss: 0.0777 - acc: 0.9805 - val_loss: 0.2285 - val_acc: 0.9134\n",
      "Epoch 6/25\n",
      "40/40 [==============================] - 29s 726ms/step - loss: 0.0940 - acc: 0.9773 - val_loss: 0.3283 - val_acc: 0.8512\n",
      "Epoch 7/25\n",
      "40/40 [==============================] - 29s 731ms/step - loss: 0.0371 - acc: 0.9883 - val_loss: 0.2803 - val_acc: 0.9190\n",
      "Epoch 8/25\n",
      "40/40 [==============================] - 29s 725ms/step - loss: 0.0630 - acc: 0.9805 - val_loss: 0.9568 - val_acc: 0.7301\n",
      "Epoch 9/25\n",
      "40/40 [==============================] - 29s 735ms/step - loss: 0.0856 - acc: 0.9742 - val_loss: 0.1572 - val_acc: 0.9441\n",
      "Epoch 10/25\n",
      "40/40 [==============================] - 29s 724ms/step - loss: 0.0535 - acc: 0.9828 - val_loss: 0.3082 - val_acc: 0.8929\n",
      "Epoch 11/25\n",
      "40/40 [==============================] - 29s 726ms/step - loss: 0.0387 - acc: 0.9895 - val_loss: 0.4707 - val_acc: 0.8050\n",
      "Epoch 12/25\n",
      "40/40 [==============================] - 29s 725ms/step - loss: 0.0489 - acc: 0.9879 - val_loss: 0.3404 - val_acc: 0.8511\n",
      "Epoch 13/25\n",
      "40/40 [==============================] - 29s 727ms/step - loss: 0.0202 - acc: 0.9953 - val_loss: 0.6499 - val_acc: 0.8035\n",
      "Epoch 14/25\n",
      "40/40 [==============================] - 29s 726ms/step - loss: 0.0176 - acc: 0.9937 - val_loss: 0.2988 - val_acc: 0.8766\n",
      "Epoch 15/25\n",
      "40/40 [==============================] - 29s 725ms/step - loss: 0.0201 - acc: 0.9961 - val_loss: 0.2998 - val_acc: 0.8744\n",
      "Epoch 16/25\n",
      "40/40 [==============================] - 29s 731ms/step - loss: 0.0088 - acc: 0.9969 - val_loss: 0.9640 - val_acc: 0.7809\n",
      "Epoch 17/25\n",
      "40/40 [==============================] - 29s 719ms/step - loss: 0.0089 - acc: 0.9977 - val_loss: 0.3117 - val_acc: 0.8907\n",
      "Epoch 18/25\n",
      "40/40 [==============================] - 29s 722ms/step - loss: 0.0423 - acc: 0.9875 - val_loss: 1.3263 - val_acc: 0.7513\n",
      "Epoch 19/25\n",
      "40/40 [==============================] - 29s 721ms/step - loss: 0.0248 - acc: 0.9914 - val_loss: 0.4515 - val_acc: 0.8234\n",
      "Epoch 20/25\n",
      "40/40 [==============================] - 29s 720ms/step - loss: 0.0144 - acc: 0.9969 - val_loss: 0.2834 - val_acc: 0.8710\n",
      "Epoch 21/25\n",
      "40/40 [==============================] - 29s 721ms/step - loss: 0.0084 - acc: 0.9984 - val_loss: 0.3254 - val_acc: 0.8768\n",
      "Epoch 22/25\n",
      "40/40 [==============================] - 29s 725ms/step - loss: 0.0067 - acc: 0.9977 - val_loss: 0.8940 - val_acc: 0.8096\n",
      "Epoch 23/25\n",
      "40/40 [==============================] - 30s 742ms/step - loss: 0.0188 - acc: 0.9930 - val_loss: 0.3279 - val_acc: 0.9129\n",
      "Epoch 24/25\n",
      "40/40 [==============================] - 29s 731ms/step - loss: 0.0087 - acc: 0.9969 - val_loss: 0.6818 - val_acc: 0.7983\n",
      "Epoch 25/25\n",
      "40/40 [==============================] - 29s 724ms/step - loss: 0.0261 - acc: 0.9875 - val_loss: 0.1131 - val_acc: 0.9690\n"
     ]
    },
    {
     "data": {
      "text/plain": [
       "<keras.callbacks.History at 0xb2ac8d668>"
      ]
     },
     "execution_count": 17,
     "metadata": {},
     "output_type": "execute_result"
    }
   ],
   "source": [
    "model.fit_generator(x_train,samples_per_epoch=1289,epochs=25,validation_data=x_test,nb_val_samples=357)"
   ]
  },
  {
   "cell_type": "code",
   "execution_count": 18,
   "metadata": {},
   "outputs": [],
   "source": [
    "model.save('cg.h5')"
   ]
  },
  {
   "cell_type": "code",
   "execution_count": null,
   "metadata": {},
   "outputs": [],
   "source": []
  }
 ],
 "metadata": {
  "kernelspec": {
   "display_name": "Python 3",
   "language": "python",
   "name": "python3"
  },
  "language_info": {
   "codemirror_mode": {
    "name": "ipython",
    "version": 3
   },
   "file_extension": ".py",
   "mimetype": "text/x-python",
   "name": "python",
   "nbconvert_exporter": "python",
   "pygments_lexer": "ipython3",
   "version": "3.7.1"
  }
 },
 "nbformat": 4,
 "nbformat_minor": 2
}
