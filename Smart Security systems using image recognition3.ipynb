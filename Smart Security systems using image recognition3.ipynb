{
 "cells": [
  {
   "cell_type": "code",
   "execution_count": 1,
   "metadata": {},
   "outputs": [
    {
     "name": "stderr",
     "output_type": "stream",
     "text": [
      "Using TensorFlow backend.\n"
     ]
    }
   ],
   "source": [
    "import numpy as np\n",
    "from keras.preprocessing import image\n",
    "from tkinter import *\n",
    "from PIL import ImageTk, Image\n",
    "from tkinter import filedialog\n",
    "import os\n",
    "from keras.models import load_model"
   ]
  },
  {
   "cell_type": "code",
   "execution_count": 2,
   "metadata": {},
   "outputs": [
    {
     "name": "stdout",
     "output_type": "stream",
     "text": [
      "WARNING:tensorflow:From /anaconda3/lib/python3.7/site-packages/tensorflow/python/framework/op_def_library.py:263: colocate_with (from tensorflow.python.framework.ops) is deprecated and will be removed in a future version.\n",
      "Instructions for updating:\n",
      "Colocations handled automatically by placer.\n",
      "WARNING:tensorflow:From /anaconda3/lib/python3.7/site-packages/tensorflow/python/ops/math_ops.py:3066: to_int32 (from tensorflow.python.ops.math_ops) is deprecated and will be removed in a future version.\n",
      "Instructions for updating:\n",
      "Use tf.cast instead.\n"
     ]
    }
   ],
   "source": [
    "classifier = load_model('cg.h5')\n",
    "classifier.compile(optimizer = 'adam', loss = 'categorical_crossentropy', metrics = ['accuracy'])\n",
    "root = Tk()\n",
    "root.geometry(\"800x500+300+150\" )\n",
    "root.title(\"Smart Security\")\n",
    "#set bg color\n",
    "root.configure(background='#ceeaf5')\n",
    "y=Label(root,text='Welcome to the Smart Security System',bg='#ceeaf5',fg=\"#198eab\",font='Trocchi 44 ')\n",
    "y.pack()\n",
    "#set icon\n",
    "#root.iconbitmap(r'/Applications/icon1.ico')\n",
    "#button_quit=Button(root,text='Exit program',command=root.quit).pack(side=RIGHT)\n",
    "#just add an image\n",
    "\n",
    "root.resizable(width=True, height=True)\n",
    "\n",
    "def openfn():\n",
    "    filename = filedialog.askopenfilename(title='open')\n",
    "    return filename\n",
    "def open_img():\n",
    "    x = openfn()\n",
    "    test_image = image.load_img(x, target_size = (64,64))\n",
    "    test_image = image.img_to_array(test_image)\n",
    "    test_image = np.expand_dims(test_image, axis = 0)\n",
    "    result = classifier.predict_classes(test_image)\n",
    "    print(result)\n",
    "    #re=classifier.predict(test_image)\n",
    "    #re=re.reshape(-1,1)\n",
    "    #print(re[0])\n",
    "    #print(re[1])\n",
    "    #print(re[2])\n",
    "    index=['anjali','indraja','niharika','unknown']\n",
    "    label = Label( root, text=\"Prediction : \"+index[result[0]],bg=\"#ceeaf5\",font='Times 16 bold italic',fg='#198eab')\n",
    "    label.pack()\n",
    "    #print((re))\n",
    "    #print(result)\n",
    "    if(result==3):\n",
    "        l3=Label(root, text=\"'Unauthorized'\",font='Times 16 italic',bg='#ceeaf5',fg='BLACK')\n",
    "    else:\n",
    "        l3=Label(root, text=\"'authorized'\",font='Times 16 italic',bg='#ceeaf5',fg='BLACK')\n",
    "    l3.pack()\n",
    "    img = Image.open(x)\n",
    "    img = img.resize((250, 250), Image.ANTIALIAS)\n",
    "    img = ImageTk.PhotoImage(img)\n",
    "    panel = Label(root, image=img)\n",
    "    panel.image = img\n",
    "    panel.pack()\n",
    "#bg is giving image bg\n",
    "btn = Button(root, text='Click to open image',bg='#198eab',fg=\"#198eab\",font='Times 16 italic', command=open_img).pack(side = TOP)\n",
    "\n",
    "#bcimg =ImageTk.PhotoImage(Image.open('/Applications/background.jpg'))\n",
    "#labelphoto=Label(root,image=bcimg)\n",
    "#labelphoto\n",
    "#labelphoto.pack()\n",
    "\n",
    "\n",
    "root.mainloop()"
   ]
  },
  {
   "cell_type": "markdown",
   "metadata": {},
   "source": []
  },
  {
   "cell_type": "code",
   "execution_count": 3,
   "metadata": {},
   "outputs": [],
   "source": [
    "#fg=font color in labels\n",
    "#+200 on x axis ,y axis   \n",
    "#grid(row=1,colum=0,sticky=W) for location of text"
   ]
  },
  {
   "cell_type": "code",
   "execution_count": 4,
   "metadata": {},
   "outputs": [],
   "source": [
    "#button1.pack(side = LEFT)"
   ]
  },
  {
   "cell_type": "code",
   "execution_count": 5,
   "metadata": {},
   "outputs": [],
   "source": [
    "#button1 = Button(topframe, padx=16, bd=8, text=\"AIRCARD A-1 ON LINE\", bg=\"green\", fg=\"black\", command=led1_on)\n"
   ]
  },
  {
   "cell_type": "code",
   "execution_count": null,
   "metadata": {},
   "outputs": [],
   "source": []
  },
  {
   "cell_type": "raw",
   "metadata": {},
   "source": []
  },
  {
   "cell_type": "code",
   "execution_count": null,
   "metadata": {},
   "outputs": [],
   "source": []
  }
 ],
 "metadata": {
  "kernelspec": {
   "display_name": "Python 3",
   "language": "python",
   "name": "python3"
  },
  "language_info": {
   "codemirror_mode": {
    "name": "ipython",
    "version": 3
   },
   "file_extension": ".py",
   "mimetype": "text/x-python",
   "name": "python",
   "nbconvert_exporter": "python",
   "pygments_lexer": "ipython3",
   "version": "3.7.1"
  }
 },
 "nbformat": 4,
 "nbformat_minor": 2
}
